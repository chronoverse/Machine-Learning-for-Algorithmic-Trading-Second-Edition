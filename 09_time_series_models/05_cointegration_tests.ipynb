{
 "cells": [
  {
   "cell_type": "markdown",
   "metadata": {},
   "source": [
    "# Cointegration Tests & Pairs Trading"
   ]
  },
  {
   "cell_type": "markdown",
   "metadata": {},
   "source": [
    "## What is cointegration?\n",
    "We have seen how a time series can have a unit root that creates a stochastic trend and makes the time series highly persistent. When we use such an integrated time series in their original, rather than in differenced, form as a feature in a linear regression model, its relationship with the outcome will often appear statistically significant, even though it is not. This phenomenon is called spurious regression (for details, see Chapter 18 in [Wooldridge, 2008](https://economics.ut.ac.ir/documents/3030266/14100645/Jeffrey_M._Wooldridge_Introductory_Econometrics_A_Modern_Approach__2012.pdf)). Therefore, the recommended solution is to difference the time series so they become stationary before using them in a model.\n",
    "\n",
    "However, there is an exception when there are cointegration relationships between the outcome and one or more input variables. To understand the concept of cointegration, let's first remember that the residuals of a regression model are a linear combination of the inputs and the output series.\n",
    "\n",
    "Usually, the residuals of the regression of one integrated time series on one or more such series yields non-stationary residuals that are also integrated, and thus behave like a random walk. However, for some time series, this is not the case: the regression produces coefficients that yield a linear combination of the time series in the form of the residuals that are stationary, even though the individual series are not. Such time series are\n",
    "cointegrated.\n",
    "\n",
    "A non-technical example is that of a drunken man on a random walk accompanied by his dog (on a leash). Both trajectories are non-stationary but cointegrated because the dog will occasionally revert to his owner. In the trading context, arbitrage constraints imply cointegration between spot and futures prices.\n",
    "\n",
    "In other words, a linear combination of two or more cointegrated series has a stable mean to which this linear combination reverts. This also applies when the individual series are integrated of a higher order and the linear combination reduces the overall order of integration.\n",
    "\n",
    "Cointegration differs from correlation: two series can be highly correlated but need not be cointegrated. For example, if two growing series are constant multiples of each other, their correlation will be high, but any linear combination will also grow rather than revert to a stable mean."
   ]
  },
  {
   "cell_type": "markdown",
   "metadata": {},
   "source": [
    "## Cointegration for Pairs Trading\n",
    "\n",
    "Cointegration is very useful: if two or more asset price series tend to revert to a common mean, we can leverage deviations from the trend because they should imply future price moves in the opposite direction. The mathematics behind cointegration is more involved, so we will only focus on the practical aspects; for an in-depth treatment, see [Lütkepohl (2005)](https://www.springer.com/gp/book/9783540401728).\n",
    "\n",
    "In this notebook, we will address how we can identify pairs with such a long-term stationary relationship, estimate the expected time for any disequilibrium to correct, and how to utilize these tools to implement and backtest a long-short pairs trading strategy. There are two approaches to testing for cointegration:\n",
    "- The Engle-Granger two-step method\n",
    "- The Johansen test\n",
    "\n",
    "The book chapter discusses each test in turn; in this notebook we show how they help identify cointegrated securities that tend to revert to a common trend, a fact that we can leverage for a statistical arbitrage\n",
    "strategy."
   ]
  },
  {
   "cell_type": "markdown",
   "metadata": {},
   "source": [
    "## Imports & Settings"
   ]
  },
  {
   "cell_type": "code",
   "execution_count": 12,
   "metadata": {
    "ExecuteTime": {
     "end_time": "2021-02-23T14:37:17.768213Z",
     "start_time": "2021-02-23T14:37:17.765416Z"
    }
   },
   "outputs": [],
   "source": [
    "import warnings\n",
    "warnings.filterwarnings('ignore')"
   ]
  },
  {
   "cell_type": "code",
   "execution_count": 13,
   "metadata": {
    "ExecuteTime": {
     "end_time": "2021-02-23T15:13:45.781616Z",
     "start_time": "2021-02-23T15:13:45.765250Z"
    }
   },
   "outputs": [],
   "source": [
    "from time import time\n",
    "from pathlib import Path\n",
    "from tqdm import tqdm \n",
    "\n",
    "import numpy as np\n",
    "from numpy.linalg import LinAlgError\n",
    "import pandas as pd\n",
    "\n",
    "from sklearn.model_selection import StratifiedKFold, GridSearchCV\n",
    "from sklearn.metrics import confusion_matrix\n",
    "from sklearn.tree import  DecisionTreeClassifier\n",
    "from sklearn.linear_model import LogisticRegressionCV\n",
    "\n",
    "from statsmodels.tsa.stattools import adfuller, coint\n",
    "from statsmodels.tsa.vector_ar.vecm import coint_johansen\n",
    "from statsmodels.tsa.api import VAR\n",
    "\n",
    "import matplotlib.pyplot as plt\n",
    "import seaborn as sns"
   ]
  },
  {
   "cell_type": "code",
   "execution_count": 14,
   "metadata": {
    "ExecuteTime": {
     "end_time": "2021-02-23T14:37:18.698099Z",
     "start_time": "2021-02-23T14:37:18.695965Z"
    }
   },
   "outputs": [],
   "source": [
    "pd.set_option('display.float_format', lambda x: f'{x:,.2f}')"
   ]
  },
  {
   "cell_type": "code",
   "execution_count": 15,
   "metadata": {
    "ExecuteTime": {
     "end_time": "2021-02-23T14:37:18.705831Z",
     "start_time": "2021-02-23T14:37:18.699717Z"
    }
   },
   "outputs": [],
   "source": [
    "DATA_PATH = Path('..', 'data')\n",
    "STORE = DATA_PATH / 'stooq.h5'"
   ]
  },
  {
   "cell_type": "markdown",
   "metadata": {},
   "source": [
    "### Johansen Test Critical Values"
   ]
  },
  {
   "cell_type": "code",
   "execution_count": 16,
   "metadata": {
    "ExecuteTime": {
     "end_time": "2021-02-23T14:37:18.713695Z",
     "start_time": "2021-02-23T14:37:18.707298Z"
    }
   },
   "outputs": [],
   "source": [
    "critical_values = {0: {.9: 13.4294, .95: 15.4943, .99: 19.9349},\n",
    "                   1: {.9: 2.7055, .95: 3.8415, .99: 6.6349}}"
   ]
  },
  {
   "cell_type": "code",
   "execution_count": 17,
   "metadata": {
    "ExecuteTime": {
     "end_time": "2021-02-23T14:37:18.721417Z",
     "start_time": "2021-02-23T14:37:18.714576Z"
    }
   },
   "outputs": [],
   "source": [
    "trace0_cv = critical_values[0][.95] # critical value for 0 cointegration relationships\n",
    "trace1_cv = critical_values[1][.95] # critical value for 1 cointegration relationship"
   ]
  },
  {
   "cell_type": "markdown",
   "metadata": {},
   "source": [
    "## Load & Clean Stock & ETF Data"
   ]
  },
  {
   "cell_type": "markdown",
   "metadata": {},
   "source": [
    "### Remove highly correlated assets"
   ]
  },
  {
   "cell_type": "code",
   "execution_count": 18,
   "metadata": {
    "ExecuteTime": {
     "end_time": "2021-02-23T14:37:18.733836Z",
     "start_time": "2021-02-23T14:37:18.722277Z"
    }
   },
   "outputs": [],
   "source": [
    "def remove_correlated_assets(df, cutoff=.99):\n",
    "    corr = df.corr().stack()\n",
    "    corr = corr[corr < 1]\n",
    "    to_check = corr[corr.abs() > cutoff].index\n",
    "    keep, drop = set(), set()\n",
    "    for s1, s2 in to_check:\n",
    "        if s1 not in keep:\n",
    "            if s2 not in keep:\n",
    "                keep.add(s1)\n",
    "                drop.add(s2)\n",
    "            else:\n",
    "                drop.add(s1)\n",
    "        else:\n",
    "            keep.discard(s2)\n",
    "            drop.add(s2)\n",
    "    return df.drop(drop, axis=1)"
   ]
  },
  {
   "cell_type": "markdown",
   "metadata": {},
   "source": [
    "### Remove stationary series"
   ]
  },
  {
   "cell_type": "code",
   "execution_count": 19,
   "metadata": {
    "ExecuteTime": {
     "end_time": "2021-02-23T14:37:18.745120Z",
     "start_time": "2021-02-23T14:37:18.734706Z"
    }
   },
   "outputs": [],
   "source": [
    "def check_stationarity(df):\n",
    "    results = []\n",
    "    for ticker, prices in df.items():\n",
    "        results.append([ticker, adfuller(prices, regression='ct')[1]])\n",
    "    return pd.DataFrame(results, columns=['ticker', 'adf']).sort_values('adf')"
   ]
  },
  {
   "cell_type": "code",
   "execution_count": 20,
   "metadata": {
    "ExecuteTime": {
     "end_time": "2021-02-23T14:37:18.753562Z",
     "start_time": "2021-02-23T14:37:18.747783Z"
    }
   },
   "outputs": [],
   "source": [
    "def remove_stationary_assets(df, pval=.05):\n",
    "    test_result = check_stationarity(df)\n",
    "    stationary = test_result.loc[test_result.adf <= pval, 'ticker'].tolist()\n",
    "    return df.drop(stationary, axis=1).sort_index()"
   ]
  },
  {
   "cell_type": "markdown",
   "metadata": {},
   "source": [
    "### Select Assets"
   ]
  },
  {
   "cell_type": "code",
   "execution_count": 21,
   "metadata": {
    "ExecuteTime": {
     "end_time": "2021-02-23T14:58:37.683658Z",
     "start_time": "2021-02-23T14:58:37.677577Z"
    }
   },
   "outputs": [],
   "source": [
    "def select_assets(asset_class='stocks', n=500, start=2010, end=2019):\n",
    "    idx = pd.IndexSlice\n",
    "    with pd.HDFStore(STORE) as store:\n",
    "        df = (pd.concat([store[f'stooq/us/nasdaq/{asset_class}/prices'],\n",
    "                         store[f'stooq/us/nyse/{asset_class}/prices']])\n",
    "              # stooq download can have duplicate assets\n",
    "              .loc[lambda df: ~df.index.duplicated()]\n",
    "              .sort_index()\n",
    "              .loc[idx[:, f'{start}':f'{end}'], :]\n",
    "              .assign(dv=lambda df: df.close.mul(df.volume)))\n",
    "\n",
    "    # select n assets with the highest average trading volume\n",
    "    # we are taking a shortcut to simplify; should select\n",
    "    # based on historical only, e.g. yearly rolling avg\n",
    "    most_traded = (df.groupby(level='ticker')\n",
    "                   .dv.mean()\n",
    "                   .nlargest(n=n).index)\n",
    "\n",
    "    df = (df.loc[idx[most_traded, :], 'close']\n",
    "          .unstack('ticker')\n",
    "          .ffill(limit=5)  # fill up to five values\n",
    "          .dropna(axis=1))  # remove assets with any missing values\n",
    "\n",
    "    df = remove_correlated_assets(df)\n",
    "    return remove_stationary_assets(df).sort_index()"
   ]
  },
  {
   "cell_type": "markdown",
   "metadata": {},
   "source": [
    "We store the intermediate result:"
   ]
  },
  {
   "cell_type": "code",
   "execution_count": 22,
   "metadata": {
    "ExecuteTime": {
     "end_time": "2021-02-23T14:59:45.554530Z",
     "start_time": "2021-02-23T14:58:39.150056Z"
    }
   },
   "outputs": [],
   "source": [
    "for asset_class, n in [('etfs', 500), ('stocks', 250)]:\n",
    "    df = select_assets(asset_class=asset_class, n=n)\n",
    "    df.to_hdf('data.h5', f'{asset_class}/close')"
   ]
  },
  {
   "cell_type": "markdown",
   "metadata": {},
   "source": [
    "### Get ticker dictionary"
   ]
  },
  {
   "cell_type": "code",
   "execution_count": 23,
   "metadata": {
    "ExecuteTime": {
     "end_time": "2021-02-23T14:59:57.148863Z",
     "start_time": "2021-02-23T14:59:57.145495Z"
    }
   },
   "outputs": [],
   "source": [
    "def get_ticker_dict():\n",
    "    with pd.HDFStore(STORE) as store:\n",
    "        return (pd.concat([\n",
    "            store['stooq/us/nyse/stocks/tickers'],\n",
    "            store['stooq/us/nyse/etfs/tickers'],\n",
    "            store['stooq/us/nasdaq/etfs/tickers'],\n",
    "            store['stooq/us/nasdaq/stocks/tickers']\n",
    "        ]).drop_duplicates().set_index('ticker').squeeze().to_dict())"
   ]
  },
  {
   "cell_type": "code",
   "execution_count": 24,
   "metadata": {
    "ExecuteTime": {
     "end_time": "2021-02-23T14:59:57.691206Z",
     "start_time": "2021-02-23T14:59:57.628201Z"
    }
   },
   "outputs": [],
   "source": [
    "names = get_ticker_dict()"
   ]
  },
  {
   "cell_type": "markdown",
   "metadata": {},
   "source": [
    "## Visualize Correlation Clusters "
   ]
  },
  {
   "cell_type": "markdown",
   "metadata": {},
   "source": [
    "Reload intermediate results:"
   ]
  },
  {
   "cell_type": "code",
   "execution_count": 25,
   "metadata": {
    "ExecuteTime": {
     "end_time": "2021-02-23T15:00:54.264967Z",
     "start_time": "2021-02-23T15:00:54.248699Z"
    }
   },
   "outputs": [
    {
     "name": "stdout",
     "output_type": "stream",
     "text": [
      "<class 'pandas.core.frame.DataFrame'>\n",
      "DatetimeIndex: 2516 entries, 2010-01-04 to 2019-12-31\n",
      "Columns: 172 entries, AAPL.US to FSLR.US\n",
      "dtypes: float64(172)\n",
      "memory usage: 3.3 MB\n"
     ]
    }
   ],
   "source": [
    "stocks = pd.read_hdf('data.h5', 'stocks/close')\n",
    "stocks.info()"
   ]
  },
  {
   "cell_type": "code",
   "execution_count": 26,
   "metadata": {
    "ExecuteTime": {
     "end_time": "2021-02-23T15:00:56.705358Z",
     "start_time": "2021-02-23T15:00:56.690013Z"
    }
   },
   "outputs": [
    {
     "name": "stdout",
     "output_type": "stream",
     "text": [
      "<class 'pandas.core.frame.DataFrame'>\n",
      "DatetimeIndex: 2516 entries, 2010-01-04 to 2019-12-31\n",
      "Columns: 132 entries, SPY.US to EWN.US\n",
      "dtypes: float64(132)\n",
      "memory usage: 2.6 MB\n"
     ]
    }
   ],
   "source": [
    "etfs = pd.read_hdf('data.h5', 'etfs/close')\n",
    "etfs.info()"
   ]
  },
  {
   "cell_type": "code",
   "execution_count": 27,
   "metadata": {
    "ExecuteTime": {
     "end_time": "2021-02-23T15:01:15.101618Z",
     "start_time": "2021-02-23T15:01:13.647425Z"
    }
   },
   "outputs": [],
   "source": [
    "tickers = {k: v for k, v in names.items() if k in etfs.columns.union(stocks.columns)}\n",
    "pd.Series(tickers).to_hdf('data.h5', 'tickers')"
   ]
  },
  {
   "cell_type": "code",
   "execution_count": 28,
   "metadata": {
    "ExecuteTime": {
     "end_time": "2021-02-23T15:01:19.874810Z",
     "start_time": "2021-02-23T15:01:15.102722Z"
    }
   },
   "outputs": [],
   "source": [
    "corr = pd.DataFrame(index=stocks.columns)\n",
    "for etf, data in etfs.items():\n",
    "    corr[etf] = stocks.corrwith(data)"
   ]
  },
  {
   "cell_type": "code",
   "execution_count": 29,
   "metadata": {
    "ExecuteTime": {
     "end_time": "2021-02-23T15:01:19.888310Z",
     "start_time": "2021-02-23T15:01:19.875906Z"
    }
   },
   "outputs": [
    {
     "name": "stdout",
     "output_type": "stream",
     "text": [
      "<class 'pandas.core.frame.DataFrame'>\n",
      "Index: 172 entries, AAPL.US to FSLR.US\n",
      "Columns: 132 entries, SPY.US to EWN.US\n",
      "dtypes: float64(132)\n",
      "memory usage: 182.8+ KB\n"
     ]
    }
   ],
   "source": [
    "corr.info()"
   ]
  },
  {
   "cell_type": "code",
   "execution_count": 30,
   "metadata": {
    "ExecuteTime": {
     "end_time": "2021-02-23T15:01:20.585582Z",
     "start_time": "2021-02-23T15:01:19.889466Z"
    },
    "scrolled": false
   },
   "outputs": [
    {
     "data": {
      "image/png": "[encoded data removed]",
      "text/plain": [
       "<Figure size 720x720 with 4 Axes>"
      ]
     },
     "metadata": {
      "needs_background": "light"
     },
     "output_type": "display_data"
    }
   ],
   "source": [
    "cmap = sns.diverging_palette(220, 10, as_cmap=True)\n",
    "sns.clustermap(corr, cmap=cmap, center=0);"
   ]
  },
  {
   "cell_type": "markdown",
   "metadata": {},
   "source": [
    "## Candidate Selection using Heuristics"
   ]
  },
  {
   "cell_type": "markdown",
   "metadata": {},
   "source": [
    "### Computational Complexity: Comparing running times"
   ]
  },
  {
   "cell_type": "markdown",
   "metadata": {},
   "source": [
    "In this section, we compare the running times of various cointegration tests. More specifically, we are running tests for a single asset vs. the remaining set of securities."
   ]
  },
  {
   "cell_type": "markdown",
   "metadata": {},
   "source": [
    "#### Prepare Data"
   ]
  },
  {
   "cell_type": "code",
   "execution_count": 31,
   "metadata": {
    "ExecuteTime": {
     "end_time": "2021-02-23T15:01:38.693161Z",
     "start_time": "2021-02-23T15:01:38.689811Z"
    }
   },
   "outputs": [
    {
     "data": {
      "text/plain": [
       "((2516, 172), (2516, 132))"
      ]
     },
     "execution_count": 31,
     "metadata": {},
     "output_type": "execute_result"
    }
   ],
   "source": [
    "stocks.shape, etfs.shape"
   ]
  },
  {
   "cell_type": "code",
   "execution_count": 32,
   "metadata": {
    "ExecuteTime": {
     "end_time": "2021-02-23T15:01:38.714843Z",
     "start_time": "2021-02-23T15:01:38.696321Z"
    }
   },
   "outputs": [
    {
     "name": "stdout",
     "output_type": "stream",
     "text": [
      "<class 'pandas.core.frame.DataFrame'>\n",
      "DatetimeIndex: 2516 entries, 2010-01-04 to 2019-12-31\n",
      "Columns: 172 entries, AAPL.US to FSLR.US\n",
      "dtypes: float64(172)\n",
      "memory usage: 3.3 MB\n"
     ]
    }
   ],
   "source": [
    "stocks.info()"
   ]
  },
  {
   "cell_type": "code",
   "execution_count": 33,
   "metadata": {
    "ExecuteTime": {
     "end_time": "2021-02-23T15:01:38.732329Z",
     "start_time": "2021-02-23T15:01:38.716060Z"
    }
   },
   "outputs": [
    {
     "name": "stdout",
     "output_type": "stream",
     "text": [
      "<class 'pandas.core.frame.DataFrame'>\n",
      "DatetimeIndex: 2516 entries, 2010-01-04 to 2019-12-31\n",
      "Columns: 132 entries, SPY.US to EWN.US\n",
      "dtypes: float64(132)\n",
      "memory usage: 2.6 MB\n"
     ]
    }
   ],
   "source": [
    "etfs.info()"
   ]
  },
  {
   "cell_type": "code",
   "execution_count": 34,
   "metadata": {
    "ExecuteTime": {
     "end_time": "2021-02-23T15:01:38.743544Z",
     "start_time": "2021-02-23T15:01:38.733468Z"
    }
   },
   "outputs": [],
   "source": [
    "security = etfs['AAXJ.US'].loc['2010': '2013']\n",
    "candidates = stocks.loc['2010': '2013']"
   ]
  },
  {
   "cell_type": "code",
   "execution_count": 35,
   "metadata": {
    "ExecuteTime": {
     "end_time": "2021-02-23T15:01:38.749550Z",
     "start_time": "2021-02-23T15:01:38.744629Z"
    }
   },
   "outputs": [],
   "source": [
    "security = security.div(security.iloc[0])\n",
    "candidates = candidates.div(candidates.iloc[0])\n",
    "spreads = candidates.sub(security, axis=0)"
   ]
  },
  {
   "cell_type": "code",
   "execution_count": 36,
   "metadata": {
    "ExecuteTime": {
     "end_time": "2021-02-23T15:01:38.756941Z",
     "start_time": "2021-02-23T15:01:38.750525Z"
    }
   },
   "outputs": [],
   "source": [
    "n, m = spreads.shape\n",
    "X = np.ones(shape=(n, 2))\n",
    "X[:, 1] = np.arange(1, n+1)"
   ]
  },
  {
   "cell_type": "markdown",
   "metadata": {},
   "source": [
    "#### Heuristics"
   ]
  },
  {
   "cell_type": "code",
   "execution_count": 37,
   "metadata": {
    "ExecuteTime": {
     "end_time": "2021-02-23T15:01:44.686593Z",
     "start_time": "2021-02-23T15:01:38.757885Z"
    }
   },
   "outputs": [
    {
     "name": "stdout",
     "output_type": "stream",
     "text": [
      "818 µs ± 45.2 µs per loop (mean ± std. dev. of 7 runs, 1000 loops each)\n"
     ]
    }
   ],
   "source": [
    "%%timeit\n",
    "np.linalg.inv(X.T @ X) @ X.T @ spreads"
   ]
  },
  {
   "cell_type": "code",
   "execution_count": 38,
   "metadata": {
    "ExecuteTime": {
     "end_time": "2021-02-23T15:01:53.021935Z",
     "start_time": "2021-02-23T15:01:44.688097Z"
    }
   },
   "outputs": [
    {
     "name": "stdout",
     "output_type": "stream",
     "text": [
      "1.51 ms ± 40.9 µs per loop (mean ± std. dev. of 7 runs, 1000 loops each)\n"
     ]
    }
   ],
   "source": [
    "%%timeit\n",
    "spreads.std()"
   ]
  },
  {
   "cell_type": "code",
   "execution_count": 39,
   "metadata": {
    "ExecuteTime": {
     "end_time": "2021-02-23T15:01:55.542166Z",
     "start_time": "2021-02-23T15:01:53.023518Z"
    }
   },
   "outputs": [
    {
     "name": "stdout",
     "output_type": "stream",
     "text": [
      "64.6 ms ± 5.07 ms per loop (mean ± std. dev. of 7 runs, 10 loops each)\n"
     ]
    }
   ],
   "source": [
    "%%timeit\n",
    "candidates.corrwith(security)"
   ]
  },
  {
   "cell_type": "markdown",
   "metadata": {},
   "source": [
    "#### Cointegration Tests"
   ]
  },
  {
   "cell_type": "code",
   "execution_count": 40,
   "metadata": {
    "ExecuteTime": {
     "end_time": "2021-02-23T15:06:17.974043Z",
     "start_time": "2021-02-23T15:01:55.544702Z"
    }
   },
   "outputs": [
    {
     "name": "stdout",
     "output_type": "stream",
     "text": [
      "24.9 s ± 380 ms per loop (mean ± std. dev. of 7 runs, 1 loop each)\n"
     ]
    }
   ],
   "source": [
    "%%timeit\n",
    "for candidate, prices in candidates.items():\n",
    "    df = pd.DataFrame({'s1': security,\n",
    "                       's2': prices})\n",
    "    var = VAR(df.values)\n",
    "    lags = var.select_order()\n",
    "    k_ar_diff = lags.selected_orders['aic']\n",
    "    coint_johansen(df, det_order=0, k_ar_diff=k_ar_diff)\n",
    "    coint(security, prices, trend='c')[:2]\n",
    "    coint(prices, security, trend='c')[:2]"
   ]
  },
  {
   "cell_type": "markdown",
   "metadata": {},
   "source": [
    "Clearly, cointegration tests are significantly more costly. It would be great if the heuristics worked just as well, or at least 'good enough'."
   ]
  },
  {
   "cell_type": "markdown",
   "metadata": {},
   "source": [
    "### Compute Heuristics"
   ]
  },
  {
   "cell_type": "markdown",
   "metadata": {},
   "source": [
    "The function `compute_pair_metrics()` computes the following distance metrics for over 23,000 pairs of\n",
    "stocks and Exchange Traded Funds (ETFs) for 2010-14 and 2015-19:\n",
    "\n",
    "- The **drift of the spread**, defined as a linear regression of a time trend on the spread\n",
    "- The spread's  **volatility**\n",
    "- The **correlations** between the normalized price series and between their returns\n",
    "\n",
    "Low drift and volatility, as well as high correlation, are simple proxies for cointegration. \n",
    "\n",
    "To evaluate the predictive power of these heuristics, we also run Engle-Granger and Johansen **cointegration tests** using `statsmodels` for the preceding pairs. This takes place in the loop in the second half of `compute_pair_metrics()`.\n",
    "\n",
    "We first estimate the optimal number of lags that we need to specify for the Johansen test. For both tests, we assume that the cointegrated series (the spread) may have an intercept different from zero but no trend:"
   ]
  },
  {
   "cell_type": "code",
   "execution_count": 41,
   "metadata": {
    "ExecuteTime": {
     "end_time": "2021-02-23T15:13:51.082000Z",
     "start_time": "2021-02-23T15:13:51.071380Z"
    }
   },
   "outputs": [],
   "source": [
    "def compute_pair_metrics(security, candidates):\n",
    "    security = security.div(security.iloc[0])\n",
    "    ticker = security.name\n",
    "    candidates = candidates.div(candidates.iloc[0])\n",
    "    spreads = candidates.sub(security, axis=0)\n",
    "    n, m = spreads.shape\n",
    "    X = np.ones(shape=(n, 2))\n",
    "    X[:, 1] = np.arange(1, n + 1)\n",
    "    \n",
    "    # compute drift\n",
    "    drift = ((np.linalg.inv(X.T @ X) @ X.T @ spreads).iloc[1]\n",
    "             .to_frame('drift'))\n",
    "    \n",
    "    # compute volatility\n",
    "    vol = spreads.std().to_frame('vol')\n",
    "    \n",
    "    # return correlation\n",
    "    corr_ret = (candidates.pct_change()\n",
    "                .corrwith(security.pct_change())\n",
    "                .to_frame('corr_ret'))\n",
    "    \n",
    "    # normalized price series correlation\n",
    "    corr = candidates.corrwith(security).to_frame('corr')\n",
    "    metrics = drift.join(vol).join(corr).join(corr_ret).assign(n=n)\n",
    "    \n",
    "    tests = []\n",
    "    # run cointegration tests\n",
    "    for candidate, prices in tqdm(candidates.items()):\n",
    "        df = pd.DataFrame({'s1': security, 's2': prices})\n",
    "        var = VAR(df.values)\n",
    "        lags = var.select_order() # select VAR order\n",
    "        k_ar_diff = lags.selected_orders['aic']\n",
    "        # Johansen Test with constant Term and estd. lag order\n",
    "        cj0 = coint_johansen(df, det_order=0, k_ar_diff=k_ar_diff)\n",
    "        # Engle-Granger Tests\n",
    "        t1, p1 = coint(security, prices, trend='c')[:2]\n",
    "        t2, p2 = coint(prices, security, trend='c')[:2]\n",
    "        tests.append([ticker, candidate, t1, p1, t2, p2, \n",
    "                      k_ar_diff, *cj0.lr1])\n",
    "    columns = ['s1', 's2', 't1', 'p1', 't2', 'p2', 'k_ar_diff', 'trace0', 'trace1']\n",
    "    tests = pd.DataFrame(tests, columns=columns).set_index('s2')\n",
    "    return metrics.join(tests)"
   ]
  },
  {
   "cell_type": "code",
   "execution_count": 42,
   "metadata": {
    "ExecuteTime": {
     "end_time": "2021-02-23T15:44:09.355159Z",
     "start_time": "2021-02-23T15:16:00.355882Z"
    },
    "scrolled": false
   },
   "outputs": [
    {
     "name": "stderr",
     "output_type": "stream",
     "text": [
      "172it [01:08,  2.51it/s]\n",
      "172it [01:22,  2.10it/s]\n",
      "172it [01:12,  2.37it/s]\n",
      "172it [01:22,  2.09it/s]\n",
      "172it [01:18,  2.20it/s]\n",
      "172it [01:20,  2.13it/s]\n",
      "172it [01:13,  2.34it/s]\n",
      "172it [01:17,  2.21it/s]\n",
      "172it [01:16,  2.25it/s]\n",
      "172it [01:12,  2.38it/s]\n",
      "0it [00:00, ?it/s]"
     ]
    },
    {
     "name": "stdout",
     "output_type": "stream",
     "text": [
      "\n",
      " 10 766.1\n",
      "\n"
     ]
    },
    {
     "name": "stderr",
     "output_type": "stream",
     "text": [
      "172it [01:11,  2.40it/s]\n",
      "172it [01:13,  2.35it/s]\n",
      "172it [01:09,  2.49it/s]\n",
      "172it [01:11,  2.41it/s]\n",
      "172it [01:10,  2.43it/s]\n",
      "172it [01:07,  2.57it/s]\n",
      "172it [01:10,  2.43it/s]\n",
      "172it [01:08,  2.53it/s]\n",
      "172it [01:08,  2.52it/s]\n",
      "172it [01:07,  2.56it/s]\n",
      "0it [00:00, ?it/s]"
     ]
    },
    {
     "name": "stdout",
     "output_type": "stream",
     "text": [
      "\n",
      " 20 699.0\n",
      "\n"
     ]
    },
    {
     "name": "stderr",
     "output_type": "stream",
     "text": [
      "172it [01:04,  2.65it/s]\n",
      "172it [01:06,  2.58it/s]\n",
      "172it [01:07,  2.55it/s]\n",
      "172it [01:06,  2.58it/s]\n",
      "172it [01:07,  2.53it/s]\n",
      "172it [01:12,  2.38it/s]\n",
      "172it [01:08,  2.52it/s]\n",
      "172it [01:04,  2.65it/s]\n",
      "172it [01:04,  2.67it/s]\n",
      "172it [01:03,  2.69it/s]\n",
      "0it [00:00, ?it/s]"
     ]
    },
    {
     "name": "stdout",
     "output_type": "stream",
     "text": [
      "\n",
      " 30 669.4\n",
      "\n"
     ]
    },
    {
     "name": "stderr",
     "output_type": "stream",
     "text": [
      "172it [01:05,  2.65it/s]\n",
      "172it [01:04,  2.68it/s]\n",
      "172it [01:04,  2.68it/s]\n",
      "172it [01:04,  2.66it/s]\n",
      "172it [01:04,  2.66it/s]\n",
      "172it [01:04,  2.66it/s]\n",
      "172it [01:04,  2.67it/s]\n",
      "172it [01:05,  2.64it/s]\n",
      "172it [01:05,  2.62it/s]\n",
      "172it [01:04,  2.66it/s]\n",
      "0it [00:00, ?it/s]"
     ]
    },
    {
     "name": "stdout",
     "output_type": "stream",
     "text": [
      "\n",
      " 40 648.6\n",
      "\n"
     ]
    },
    {
     "name": "stderr",
     "output_type": "stream",
     "text": [
      "172it [01:04,  2.66it/s]\n",
      "172it [01:04,  2.68it/s]\n",
      "172it [01:03,  2.69it/s]\n",
      "172it [01:04,  2.65it/s]\n",
      "172it [01:03,  2.70it/s]\n",
      "172it [01:03,  2.71it/s]\n",
      "172it [01:03,  2.69it/s]\n",
      "172it [01:04,  2.68it/s]\n",
      "172it [01:04,  2.66it/s]\n",
      "172it [01:05,  2.63it/s]\n",
      "0it [00:00, ?it/s]"
     ]
    },
    {
     "name": "stdout",
     "output_type": "stream",
     "text": [
      "\n",
      " 50 645.0\n",
      "\n"
     ]
    },
    {
     "name": "stderr",
     "output_type": "stream",
     "text": [
      "172it [01:04,  2.65it/s]\n",
      "172it [01:05,  2.64it/s]\n",
      "172it [01:04,  2.66it/s]\n",
      "172it [01:05,  2.63it/s]\n",
      "172it [01:03,  2.69it/s]\n",
      "172it [01:04,  2.68it/s]\n",
      "172it [01:06,  2.60it/s]\n",
      "172it [01:04,  2.65it/s]\n",
      "172it [01:04,  2.68it/s]\n",
      "172it [01:04,  2.66it/s]\n",
      "0it [00:00, ?it/s]"
     ]
    },
    {
     "name": "stdout",
     "output_type": "stream",
     "text": [
      "\n",
      " 60 650.1\n",
      "\n"
     ]
    },
    {
     "name": "stderr",
     "output_type": "stream",
     "text": [
      "172it [01:04,  2.67it/s]\n",
      "172it [01:04,  2.66it/s]\n",
      "172it [01:04,  2.68it/s]\n",
      "172it [01:04,  2.66it/s]\n",
      "172it [01:04,  2.68it/s]\n",
      "172it [01:04,  2.67it/s]\n",
      "172it [01:04,  2.66it/s]\n",
      "172it [01:04,  2.65it/s]\n",
      "172it [01:04,  2.65it/s]\n",
      "172it [01:04,  2.67it/s]\n",
      "0it [00:00, ?it/s]"
     ]
    },
    {
     "name": "stdout",
     "output_type": "stream",
     "text": [
      "\n",
      " 70 647.5\n",
      "\n"
     ]
    },
    {
     "name": "stderr",
     "output_type": "stream",
     "text": [
      "172it [01:04,  2.68it/s]\n",
      "172it [01:05,  2.64it/s]\n",
      "172it [01:03,  2.69it/s]\n",
      "172it [01:04,  2.66it/s]\n",
      "172it [01:04,  2.66it/s]\n",
      "172it [01:07,  2.54it/s]\n",
      "172it [01:08,  2.52it/s]\n",
      "172it [01:05,  2.62it/s]\n",
      "172it [01:06,  2.60it/s]\n",
      "172it [01:06,  2.59it/s]\n",
      "0it [00:00, ?it/s]"
     ]
    },
    {
     "name": "stdout",
     "output_type": "stream",
     "text": [
      "\n",
      " 80 658.5\n",
      "\n"
     ]
    },
    {
     "name": "stderr",
     "output_type": "stream",
     "text": [
      "172it [01:10,  2.44it/s]\n",
      "172it [01:09,  2.49it/s]\n",
      "172it [01:06,  2.58it/s]\n",
      "172it [01:07,  2.57it/s]\n",
      "172it [01:05,  2.63it/s]\n",
      "172it [01:06,  2.58it/s]\n",
      "172it [01:06,  2.60it/s]\n",
      "172it [01:05,  2.61it/s]\n",
      "172it [01:07,  2.55it/s]\n",
      "172it [01:05,  2.64it/s]\n",
      "0it [00:00, ?it/s]"
     ]
    },
    {
     "name": "stdout",
     "output_type": "stream",
     "text": [
      "\n",
      " 90 671.8\n",
      "\n"
     ]
    },
    {
     "name": "stderr",
     "output_type": "stream",
     "text": [
      "172it [01:04,  2.66it/s]\n",
      "172it [01:04,  2.67it/s]\n",
      "172it [01:06,  2.59it/s]\n",
      "172it [01:06,  2.58it/s]\n",
      "172it [01:05,  2.61it/s]\n",
      "172it [01:06,  2.57it/s]\n",
      "172it [01:09,  2.48it/s]\n",
      "172it [01:03,  2.71it/s]\n",
      "172it [01:03,  2.69it/s]\n",
      "172it [01:04,  2.65it/s]\n",
      "0it [00:00, ?it/s]"
     ]
    },
    {
     "name": "stdout",
     "output_type": "stream",
     "text": [
      "\n",
      "100 658.4\n",
      "\n"
     ]
    },
    {
     "name": "stderr",
     "output_type": "stream",
     "text": [
      "172it [01:06,  2.59it/s]\n",
      "172it [01:04,  2.67it/s]\n",
      "172it [01:04,  2.65it/s]\n",
      "172it [01:04,  2.67it/s]\n",
      "172it [01:04,  2.68it/s]\n",
      "172it [01:04,  2.66it/s]\n",
      "172it [01:05,  2.64it/s]\n",
      "172it [01:04,  2.69it/s]\n",
      "172it [01:04,  2.67it/s]\n",
      "172it [01:04,  2.65it/s]\n",
      "0it [00:00, ?it/s]"
     ]
    },
    {
     "name": "stdout",
     "output_type": "stream",
     "text": [
      "\n",
      "110 649.3\n",
      "\n"
     ]
    },
    {
     "name": "stderr",
     "output_type": "stream",
     "text": [
      "172it [01:04,  2.65it/s]\n",
      "172it [01:04,  2.66it/s]\n",
      "172it [01:05,  2.65it/s]\n",
      "172it [01:04,  2.66it/s]\n",
      "172it [01:04,  2.67it/s]\n",
      "172it [01:04,  2.66it/s]\n",
      "172it [01:03,  2.71it/s]\n",
      "172it [01:04,  2.67it/s]\n",
      "172it [01:05,  2.64it/s]\n",
      "172it [01:04,  2.67it/s]\n",
      "0it [00:00, ?it/s]"
     ]
    },
    {
     "name": "stdout",
     "output_type": "stream",
     "text": [
      "\n",
      "120 647.4\n",
      "\n"
     ]
    },
    {
     "name": "stderr",
     "output_type": "stream",
     "text": [
      "172it [01:04,  2.65it/s]\n",
      "172it [01:04,  2.69it/s]\n",
      "172it [01:05,  2.64it/s]\n",
      "172it [01:04,  2.67it/s]\n",
      "172it [01:05,  2.64it/s]\n",
      "172it [01:04,  2.66it/s]\n",
      "172it [01:04,  2.67it/s]\n",
      "172it [01:03,  2.71it/s]\n",
      "172it [01:04,  2.66it/s]\n",
      "172it [01:05,  2.64it/s]\n",
      "0it [00:00, ?it/s]"
     ]
    },
    {
     "name": "stdout",
     "output_type": "stream",
     "text": [
      "\n",
      "130 647.6\n",
      "\n"
     ]
    },
    {
     "name": "stderr",
     "output_type": "stream",
     "text": [
      "172it [01:08,  2.53it/s]\n",
      "172it [01:08,  2.52it/s]"
     ]
    },
    {
     "name": "stdout",
     "output_type": "stream",
     "text": [
      "CPU times: user 13h 52min 16s, sys: 41min 40s, total: 14h 33min 57s\n",
      "Wall time: 2h 26min 35s\n"
     ]
    },
    {
     "name": "stderr",
     "output_type": "stream",
     "text": [
      "\n"
     ]
    }
   ],
   "source": [
    "%%time\n",
    "spreads = []\n",
    "start = 2010\n",
    "stop = 2019\n",
    "etf_candidates = etfs.loc[str(start): str(stop), :]\n",
    "stock_candidates = stocks.loc[str(start): str(stop), :]\n",
    "s = time()\n",
    "for i, (etf_ticker, etf_prices) in enumerate(etf_candidates.items(), 1):\n",
    "    df = compute_pair_metrics(etf_prices, stock_candidates)\n",
    "    spreads.append(df.set_index('s1', append=True))\n",
    "    if i % 10 == 0:\n",
    "        print(f'\\n{i:>3} {time() - s:.1f}\\n')\n",
    "        s = time()"
   ]
  },
  {
   "cell_type": "code",
   "execution_count": 43,
   "metadata": {
    "ExecuteTime": {
     "end_time": "2021-02-23T15:13:20.577216Z",
     "start_time": "2021-02-23T15:01:38.727Z"
    }
   },
   "outputs": [],
   "source": [
    "names = get_ticker_dict()\n",
    "spreads = pd.concat(spreads)\n",
    "spreads.index.names = ['s2', 's1']\n",
    "spreads = spreads.swaplevel()\n",
    "spreads['name1'] = spreads.index.get_level_values('s1').map(names)\n",
    "spreads['name2'] = spreads.index.get_level_values('s2').map(names)"
   ]
  },
  {
   "cell_type": "code",
   "execution_count": 44,
   "metadata": {
    "ExecuteTime": {
     "end_time": "2021-02-23T15:13:20.578888Z",
     "start_time": "2021-02-23T15:01:38.730Z"
    }
   },
   "outputs": [],
   "source": [
    "spreads['t'] = spreads[['t1', 't2']].min(axis=1)\n",
    "spreads['p'] = spreads[['p1', 'p2']].min(axis=1)"
   ]
  },
  {
   "cell_type": "markdown",
   "metadata": {},
   "source": [
    "### Engle-Granger vs Johansen: how do their findings compare?"
   ]
  },
  {
   "cell_type": "markdown",
   "metadata": {},
   "source": [
    "To check for the significance of the cointegration tests, we compare the Johansen trace statistic for rank 0 and 1 to their respective critical values and obtain the Engle-Granger p-value.\n",
    "\n",
    "We follow the recommendation by Gonzalo and Lee (1998) to apply both tests and accept pairs where they agree. The authors suggest additional due diligence in case of disagreement, which we are going to skip."
   ]
  },
  {
   "cell_type": "code",
   "execution_count": 45,
   "metadata": {
    "ExecuteTime": {
     "end_time": "2021-02-23T15:13:20.580513Z",
     "start_time": "2021-02-23T15:01:38.733Z"
    }
   },
   "outputs": [],
   "source": [
    "spreads['trace_sig'] = ((spreads.trace0 > trace0_cv) &\n",
    "                        (spreads.trace1 > trace1_cv)).astype(int)\n",
    "spreads['eg_sig'] = (spreads.p < .05).astype(int)"
   ]
  },
  {
   "cell_type": "markdown",
   "metadata": {},
   "source": [
    "For the over 46,000 pairs across both sample periods, the Johansen test considers 3.2 percent of the relationships as significant, while the Engle-Granger considers 6.5 percent. They agree on 366 pairs (results may change with new data downloaded from stooq)."
   ]
  },
  {
   "cell_type": "code",
   "execution_count": 46,
   "metadata": {
    "ExecuteTime": {
     "end_time": "2021-02-23T15:13:20.582004Z",
     "start_time": "2021-02-23T15:01:38.736Z"
    }
   },
   "outputs": [
    {
     "data": {
      "text/html": [
       "<div>\n",
       "<style scoped>\n",
       "    .dataframe tbody tr th:only-of-type {\n",
       "        vertical-align: middle;\n",
       "    }\n",
       "\n",
       "    .dataframe tbody tr th {\n",
       "        vertical-align: top;\n",
       "    }\n",
       "\n",
       "    .dataframe thead th {\n",
       "        text-align: right;\n",
       "    }\n",
       "</style>\n",
       "<table border=\"1\" class=\"dataframe\">\n",
       "  <thead>\n",
       "    <tr style=\"text-align: right;\">\n",
       "      <th>trace_sig</th>\n",
       "      <th>0</th>\n",
       "      <th>1</th>\n",
       "    </tr>\n",
       "    <tr>\n",
       "      <th>eg_sig</th>\n",
       "      <th></th>\n",
       "      <th></th>\n",
       "    </tr>\n",
       "  </thead>\n",
       "  <tbody>\n",
       "    <tr>\n",
       "      <th>0</th>\n",
       "      <td>20435</td>\n",
       "      <td>721</td>\n",
       "    </tr>\n",
       "    <tr>\n",
       "      <th>1</th>\n",
       "      <td>1380</td>\n",
       "      <td>168</td>\n",
       "    </tr>\n",
       "  </tbody>\n",
       "</table>\n",
       "</div>"
      ],
      "text/plain": [
       "trace_sig      0    1\n",
       "eg_sig               \n",
       "0          20435  721\n",
       "1           1380  168"
      ]
     },
     "execution_count": 46,
     "metadata": {},
     "output_type": "execute_result"
    }
   ],
   "source": [
    "pd.crosstab(spreads.eg_sig, spreads.trace_sig)"
   ]
  },
  {
   "cell_type": "code",
   "execution_count": 47,
   "metadata": {
    "ExecuteTime": {
     "end_time": "2021-02-23T15:13:20.583606Z",
     "start_time": "2021-02-23T15:01:38.739Z"
    }
   },
   "outputs": [],
   "source": [
    "spreads['coint'] = (spreads.trace_sig & spreads.eg_sig).astype(int)"
   ]
  },
  {
   "cell_type": "code",
   "execution_count": 48,
   "metadata": {
    "ExecuteTime": {
     "end_time": "2021-02-23T15:13:20.585193Z",
     "start_time": "2021-02-23T15:01:38.741Z"
    }
   },
   "outputs": [
    {
     "name": "stdout",
     "output_type": "stream",
     "text": [
      "<class 'pandas.core.frame.DataFrame'>\n",
      "MultiIndex: 22704 entries, ('SPY.US', 'AAPL.US') to ('EWN.US', 'FSLR.US')\n",
      "Data columns (total 19 columns):\n",
      " #   Column     Non-Null Count  Dtype  \n",
      "---  ------     --------------  -----  \n",
      " 0   drift      22704 non-null  float64\n",
      " 1   vol        22704 non-null  float64\n",
      " 2   corr       22704 non-null  float64\n",
      " 3   corr_ret   22704 non-null  float64\n",
      " 4   n          22704 non-null  int64  \n",
      " 5   t1         22704 non-null  float64\n",
      " 6   p1         22704 non-null  float64\n",
      " 7   t2         22704 non-null  float64\n",
      " 8   p2         22704 non-null  float64\n",
      " 9   k_ar_diff  22704 non-null  int64  \n",
      " 10  trace0     22704 non-null  float64\n",
      " 11  trace1     22704 non-null  float64\n",
      " 12  name1      22704 non-null  object \n",
      " 13  name2      22704 non-null  object \n",
      " 14  t          22704 non-null  float64\n",
      " 15  p          22704 non-null  float64\n",
      " 16  trace_sig  22704 non-null  int64  \n",
      " 17  eg_sig     22704 non-null  int64  \n",
      " 18  coint      22704 non-null  int64  \n",
      "dtypes: float64(12), int64(5), object(2)\n",
      "memory usage: 3.4+ MB\n"
     ]
    }
   ],
   "source": [
    "spreads.info()"
   ]
  },
  {
   "cell_type": "code",
   "execution_count": 49,
   "metadata": {
    "ExecuteTime": {
     "end_time": "2021-02-23T15:13:20.587625Z",
     "start_time": "2021-02-23T15:01:38.744Z"
    }
   },
   "outputs": [],
   "source": [
    "spreads = spreads.reset_index()"
   ]
  },
  {
   "cell_type": "code",
   "execution_count": 50,
   "metadata": {
    "ExecuteTime": {
     "end_time": "2021-02-23T15:13:20.588996Z",
     "start_time": "2021-02-23T15:01:38.746Z"
    }
   },
   "outputs": [
    {
     "data": {
      "image/png": "[encoded data removed]",
      "text/plain": [
       "<Figure size 432x288 with 1 Axes>"
      ]
     },
     "metadata": {
      "needs_background": "light"
     },
     "output_type": "display_data"
    }
   ],
   "source": [
    "sns.scatterplot(x=np.log1p(spreads.t.abs()), \n",
    "                y=np.log1p(spreads.trace1), \n",
    "                hue='coint', data=spreads[spreads.trace0>trace0_cv]);"
   ]
  },
  {
   "cell_type": "code",
   "execution_count": 51,
   "metadata": {
    "ExecuteTime": {
     "end_time": "2021-02-23T15:13:20.589724Z",
     "start_time": "2021-02-23T15:01:38.749Z"
    }
   },
   "outputs": [],
   "source": [
    "spreads.to_hdf('heuristics.h5', 'spreads')"
   ]
  },
  {
   "cell_type": "code",
   "execution_count": 52,
   "metadata": {
    "ExecuteTime": {
     "end_time": "2021-02-23T15:13:20.590297Z",
     "start_time": "2021-02-23T15:01:38.751Z"
    }
   },
   "outputs": [],
   "source": [
    "spreads = pd.read_hdf('heuristics.h5', 'spreads')"
   ]
  },
  {
   "cell_type": "markdown",
   "metadata": {},
   "source": [
    "### Evaluate Heuristics"
   ]
  },
  {
   "cell_type": "code",
   "execution_count": 53,
   "metadata": {
    "ExecuteTime": {
     "end_time": "2021-02-23T15:13:20.590796Z",
     "start_time": "2021-02-23T15:01:38.755Z"
    }
   },
   "outputs": [],
   "source": [
    "spreads.drift = spreads.drift.abs()"
   ]
  },
  {
   "cell_type": "code",
   "execution_count": 54,
   "metadata": {
    "ExecuteTime": {
     "end_time": "2021-02-23T15:13:20.591326Z",
     "start_time": "2021-02-23T15:01:38.757Z"
    }
   },
   "outputs": [
    {
     "data": {
      "text/html": [
       "<div>\n",
       "<style scoped>\n",
       "    .dataframe tbody tr th:only-of-type {\n",
       "        vertical-align: middle;\n",
       "    }\n",
       "\n",
       "    .dataframe tbody tr th {\n",
       "        vertical-align: top;\n",
       "    }\n",
       "\n",
       "    .dataframe thead th {\n",
       "        text-align: right;\n",
       "    }\n",
       "</style>\n",
       "<table border=\"1\" class=\"dataframe\">\n",
       "  <thead>\n",
       "    <tr style=\"text-align: right;\">\n",
       "      <th>trace_sig</th>\n",
       "      <th>0</th>\n",
       "      <th>1</th>\n",
       "    </tr>\n",
       "    <tr>\n",
       "      <th>eg_sig</th>\n",
       "      <th></th>\n",
       "      <th></th>\n",
       "    </tr>\n",
       "  </thead>\n",
       "  <tbody>\n",
       "    <tr>\n",
       "      <th>0</th>\n",
       "      <td>20435</td>\n",
       "      <td>721</td>\n",
       "    </tr>\n",
       "    <tr>\n",
       "      <th>1</th>\n",
       "      <td>1380</td>\n",
       "      <td>168</td>\n",
       "    </tr>\n",
       "  </tbody>\n",
       "</table>\n",
       "</div>"
      ],
      "text/plain": [
       "trace_sig      0    1\n",
       "eg_sig               \n",
       "0          20435  721\n",
       "1           1380  168"
      ]
     },
     "execution_count": 54,
     "metadata": {},
     "output_type": "execute_result"
    }
   ],
   "source": [
    "pd.crosstab(spreads.eg_sig, spreads.trace_sig)"
   ]
  },
  {
   "cell_type": "code",
   "execution_count": 55,
   "metadata": {
    "ExecuteTime": {
     "end_time": "2021-02-23T15:13:20.591967Z",
     "start_time": "2021-02-23T15:01:38.760Z"
    },
    "scrolled": false
   },
   "outputs": [
    {
     "data": {
      "text/html": [
       "<div>\n",
       "<style scoped>\n",
       "    .dataframe tbody tr th:only-of-type {\n",
       "        vertical-align: middle;\n",
       "    }\n",
       "\n",
       "    .dataframe tbody tr th {\n",
       "        vertical-align: top;\n",
       "    }\n",
       "\n",
       "    .dataframe thead th {\n",
       "        text-align: right;\n",
       "    }\n",
       "</style>\n",
       "<table border=\"1\" class=\"dataframe\">\n",
       "  <thead>\n",
       "    <tr style=\"text-align: right;\">\n",
       "      <th>trace_sig</th>\n",
       "      <th>0</th>\n",
       "      <th>1</th>\n",
       "    </tr>\n",
       "    <tr>\n",
       "      <th>eg_sig</th>\n",
       "      <th></th>\n",
       "      <th></th>\n",
       "    </tr>\n",
       "  </thead>\n",
       "  <tbody>\n",
       "    <tr>\n",
       "      <th>0</th>\n",
       "      <td>90.01%</td>\n",
       "      <td>3.18%</td>\n",
       "    </tr>\n",
       "    <tr>\n",
       "      <th>1</th>\n",
       "      <td>6.08%</td>\n",
       "      <td>0.74%</td>\n",
       "    </tr>\n",
       "  </tbody>\n",
       "</table>\n",
       "</div>"
      ],
      "text/plain": [
       "trace_sig      0     1\n",
       "eg_sig                \n",
       "0         90.01% 3.18%\n",
       "1          6.08% 0.74%"
      ]
     },
     "execution_count": 55,
     "metadata": {},
     "output_type": "execute_result"
    }
   ],
   "source": [
    "pd.set_option('display.float_format', lambda x: f'{x:.2%}')\n",
    "pd.crosstab(spreads.eg_sig, spreads.trace_sig, normalize=True)"
   ]
  },
  {
   "cell_type": "code",
   "execution_count": 56,
   "metadata": {
    "ExecuteTime": {
     "end_time": "2021-02-23T15:13:20.592458Z",
     "start_time": "2021-02-23T15:01:38.762Z"
    }
   },
   "outputs": [
    {
     "data": {
      "image/png": "[encoded data removed]",
      "text/plain": [
       "<Figure size 1440x360 with 4 Axes>"
      ]
     },
     "metadata": {
      "needs_background": "light"
     },
     "output_type": "display_data"
    }
   ],
   "source": [
    "fig, axes = plt.subplots(ncols=4, figsize=(20, 5))\n",
    "for i, heuristic in enumerate(['drift', 'vol', 'corr', 'corr_ret']):\n",
    "    sns.boxplot(x='coint', y=heuristic, data=spreads, ax=axes[i])\n",
    "fig.tight_layout();"
   ]
  },
  {
   "cell_type": "markdown",
   "metadata": {},
   "source": [
    "### How well do the heuristics predict significant cointegration?"
   ]
  },
  {
   "cell_type": "markdown",
   "metadata": {},
   "source": [
    "When we compare the distributions of the heuristics for series that are cointegrated according to both tests with the remainder that is not, volatility and drift are indeed lower (in absolute terms). Figure 9.14 shows that the picture is less clear for the two correlation measures:"
   ]
  },
  {
   "cell_type": "code",
   "execution_count": 57,
   "metadata": {
    "ExecuteTime": {
     "end_time": "2021-02-23T15:13:20.592973Z",
     "start_time": "2021-02-23T15:01:38.765Z"
    }
   },
   "outputs": [
    {
     "data": {
      "text/html": [
       "<div>\n",
       "<style scoped>\n",
       "    .dataframe tbody tr th:only-of-type {\n",
       "        vertical-align: middle;\n",
       "    }\n",
       "\n",
       "    .dataframe tbody tr th {\n",
       "        vertical-align: top;\n",
       "    }\n",
       "\n",
       "    .dataframe thead th {\n",
       "        text-align: right;\n",
       "    }\n",
       "</style>\n",
       "<table border=\"1\" class=\"dataframe\">\n",
       "  <thead>\n",
       "    <tr style=\"text-align: right;\">\n",
       "      <th></th>\n",
       "      <th></th>\n",
       "      <th>25%</th>\n",
       "      <th>50%</th>\n",
       "      <th>75%</th>\n",
       "      <th>count</th>\n",
       "      <th>max</th>\n",
       "      <th>mean</th>\n",
       "      <th>min</th>\n",
       "      <th>std</th>\n",
       "    </tr>\n",
       "    <tr>\n",
       "      <th></th>\n",
       "      <th>coint</th>\n",
       "      <th></th>\n",
       "      <th></th>\n",
       "      <th></th>\n",
       "      <th></th>\n",
       "      <th></th>\n",
       "      <th></th>\n",
       "      <th></th>\n",
       "      <th></th>\n",
       "    </tr>\n",
       "  </thead>\n",
       "  <tbody>\n",
       "    <tr>\n",
       "      <th rowspan=\"2\" valign=\"top\">corr</th>\n",
       "      <th>0</th>\n",
       "      <td>-36.68%</td>\n",
       "      <td>43.86%</td>\n",
       "      <td>79.58%</td>\n",
       "      <td>2253600.00%</td>\n",
       "      <td>99.43%</td>\n",
       "      <td>23.43%</td>\n",
       "      <td>-96.43%</td>\n",
       "      <td>61.02%</td>\n",
       "    </tr>\n",
       "    <tr>\n",
       "      <th>1</th>\n",
       "      <td>-49.55%</td>\n",
       "      <td>52.85%</td>\n",
       "      <td>87.44%</td>\n",
       "      <td>16800.00%</td>\n",
       "      <td>98.83%</td>\n",
       "      <td>24.04%</td>\n",
       "      <td>-93.41%</td>\n",
       "      <td>69.60%</td>\n",
       "    </tr>\n",
       "    <tr>\n",
       "      <th rowspan=\"2\" valign=\"top\">drift</th>\n",
       "      <th>0</th>\n",
       "      <td>0.04%</td>\n",
       "      <td>0.09%</td>\n",
       "      <td>0.17%</td>\n",
       "      <td>2253600.00%</td>\n",
       "      <td>1.92%</td>\n",
       "      <td>0.13%</td>\n",
       "      <td>0.00%</td>\n",
       "      <td>0.18%</td>\n",
       "    </tr>\n",
       "    <tr>\n",
       "      <th>1</th>\n",
       "      <td>0.02%</td>\n",
       "      <td>0.05%</td>\n",
       "      <td>0.10%</td>\n",
       "      <td>16800.00%</td>\n",
       "      <td>0.51%</td>\n",
       "      <td>0.08%</td>\n",
       "      <td>0.00%</td>\n",
       "      <td>0.09%</td>\n",
       "    </tr>\n",
       "    <tr>\n",
       "      <th rowspan=\"2\" valign=\"top\">vol</th>\n",
       "      <th>0</th>\n",
       "      <td>44.25%</td>\n",
       "      <td>77.57%</td>\n",
       "      <td>136.81%</td>\n",
       "      <td>2253600.00%</td>\n",
       "      <td>1559.97%</td>\n",
       "      <td>117.01%</td>\n",
       "      <td>5.92%</td>\n",
       "      <td>147.77%</td>\n",
       "    </tr>\n",
       "    <tr>\n",
       "      <th>1</th>\n",
       "      <td>28.26%</td>\n",
       "      <td>53.87%</td>\n",
       "      <td>82.48%</td>\n",
       "      <td>16800.00%</td>\n",
       "      <td>446.41%</td>\n",
       "      <td>71.53%</td>\n",
       "      <td>10.14%</td>\n",
       "      <td>70.48%</td>\n",
       "    </tr>\n",
       "  </tbody>\n",
       "</table>\n",
       "</div>"
      ],
      "text/plain": [
       "                25%    50%     75%       count      max    mean     min  \\\n",
       "      coint                                                               \n",
       "corr  0     -36.68% 43.86%  79.58% 2253600.00%   99.43%  23.43% -96.43%   \n",
       "      1     -49.55% 52.85%  87.44%   16800.00%   98.83%  24.04% -93.41%   \n",
       "drift 0       0.04%  0.09%   0.17% 2253600.00%    1.92%   0.13%   0.00%   \n",
       "      1       0.02%  0.05%   0.10%   16800.00%    0.51%   0.08%   0.00%   \n",
       "vol   0      44.25% 77.57% 136.81% 2253600.00% 1559.97% 117.01%   5.92%   \n",
       "      1      28.26% 53.87%  82.48%   16800.00%  446.41%  71.53%  10.14%   \n",
       "\n",
       "                std  \n",
       "      coint          \n",
       "corr  0      61.02%  \n",
       "      1      69.60%  \n",
       "drift 0       0.18%  \n",
       "      1       0.09%  \n",
       "vol   0     147.77%  \n",
       "      1      70.48%  "
      ]
     },
     "execution_count": 57,
     "metadata": {},
     "output_type": "execute_result"
    }
   ],
   "source": [
    "spreads.groupby(spreads.coint)['drift', 'vol', 'corr'].describe().stack(level=0).swaplevel().sort_index()"
   ]
  },
  {
   "cell_type": "code",
   "execution_count": 58,
   "metadata": {
    "ExecuteTime": {
     "end_time": "2021-02-23T15:13:20.593502Z",
     "start_time": "2021-02-23T15:01:38.770Z"
    }
   },
   "outputs": [
    {
     "data": {
      "text/plain": [
       "0    22536\n",
       "1      168\n",
       "Name: coint, dtype: int64"
      ]
     },
     "execution_count": 58,
     "metadata": {},
     "output_type": "execute_result"
    }
   ],
   "source": [
    "spreads.coint.value_counts()"
   ]
  },
  {
   "cell_type": "markdown",
   "metadata": {},
   "source": [
    "#### Logistic Regression"
   ]
  },
  {
   "cell_type": "markdown",
   "metadata": {},
   "source": [
    "To evaluate the predictive accuracy of the heuristics, we first run a logistic regression model with these features to predict significant cointegration. It achieves an area-under-the-curve (AUC) cross-validation score of 0.815; excluding the correlation metrics, it still scores 0.804. A decision tree does slightly better at AUC=0.821, with or without the correlation features."
   ]
  },
  {
   "cell_type": "code",
   "execution_count": 59,
   "metadata": {
    "ExecuteTime": {
     "end_time": "2021-02-23T15:13:20.594154Z",
     "start_time": "2021-02-23T15:01:38.777Z"
    }
   },
   "outputs": [],
   "source": [
    "y = spreads.coint\n",
    "X = spreads[['drift', 'vol', 'corr', 'corr_ret']]\n",
    "# X = spreads[['drift', 'vol']]"
   ]
  },
  {
   "cell_type": "code",
   "execution_count": 60,
   "metadata": {
    "ExecuteTime": {
     "end_time": "2021-02-23T15:13:20.594658Z",
     "start_time": "2021-02-23T15:01:38.782Z"
    }
   },
   "outputs": [],
   "source": [
    "kf = StratifiedKFold(n_splits=5, shuffle=True)"
   ]
  },
  {
   "cell_type": "code",
   "execution_count": 61,
   "metadata": {
    "ExecuteTime": {
     "end_time": "2021-02-23T15:13:20.595242Z",
     "start_time": "2021-02-23T15:01:38.787Z"
    }
   },
   "outputs": [],
   "source": [
    "log_reg = LogisticRegressionCV(Cs=np.logspace(-10, 10, 21), \n",
    "                               class_weight='balanced',\n",
    "                               scoring='roc_auc')"
   ]
  },
  {
   "cell_type": "code",
   "execution_count": 62,
   "metadata": {
    "ExecuteTime": {
     "end_time": "2021-02-23T15:13:20.595833Z",
     "start_time": "2021-02-23T15:01:38.792Z"
    }
   },
   "outputs": [
    {
     "data": {
      "text/plain": [
       "'C:-10.00, AUC: 62.27%'"
      ]
     },
     "execution_count": 62,
     "metadata": {},
     "output_type": "execute_result"
    },
    {
     "data": {
      "image/png": "[encoded data removed]",
      "text/plain": [
       "<Figure size 432x288 with 1 Axes>"
      ]
     },
     "metadata": {
      "needs_background": "light"
     },
     "output_type": "display_data"
    }
   ],
   "source": [
    "log_reg.fit(X=X, y=y)\n",
    "Cs = log_reg.Cs_\n",
    "scores = pd.DataFrame(log_reg.scores_[True], columns=Cs).mean()\n",
    "scores.plot(logx=True);\n",
    "f'C:{np.log10(scores.idxmax()):.2f}, AUC: {scores.max():.2%}'"
   ]
  },
  {
   "cell_type": "code",
   "execution_count": 63,
   "metadata": {
    "ExecuteTime": {
     "end_time": "2021-02-23T15:13:20.596334Z",
     "start_time": "2021-02-23T15:01:38.797Z"
    }
   },
   "outputs": [
    {
     "data": {
      "text/plain": [
       "array([[-3.08168003e-10, -2.58140510e-07,  3.46475700e-09,\n",
       "        -3.72001021e-08]])"
      ]
     },
     "execution_count": 63,
     "metadata": {},
     "output_type": "execute_result"
    }
   ],
   "source": [
    "log_reg.coef_"
   ]
  },
  {
   "cell_type": "code",
   "execution_count": 64,
   "metadata": {
    "ExecuteTime": {
     "end_time": "2021-02-23T15:13:20.596850Z",
     "start_time": "2021-02-23T15:01:38.801Z"
    }
   },
   "outputs": [
    {
     "data": {
      "text/plain": [
       "array([[22536,     0],\n",
       "       [  168,     0]])"
      ]
     },
     "execution_count": 64,
     "metadata": {},
     "output_type": "execute_result"
    }
   ],
   "source": [
    "y_pred = log_reg.predict_proba(X)[:, 1]\n",
    "confusion_matrix(y_true=spreads.coint, y_pred=(y_pred>.5))"
   ]
  },
  {
   "cell_type": "code",
   "execution_count": 65,
   "metadata": {
    "ExecuteTime": {
     "end_time": "2021-02-23T15:13:20.597418Z",
     "start_time": "2021-02-23T15:01:38.807Z"
    }
   },
   "outputs": [
    {
     "data": {
      "text/html": [
       "<div>\n",
       "<style scoped>\n",
       "    .dataframe tbody tr th:only-of-type {\n",
       "        vertical-align: middle;\n",
       "    }\n",
       "\n",
       "    .dataframe tbody tr th {\n",
       "        vertical-align: top;\n",
       "    }\n",
       "\n",
       "    .dataframe thead th {\n",
       "        text-align: right;\n",
       "    }\n",
       "</style>\n",
       "<table border=\"1\" class=\"dataframe\">\n",
       "  <thead>\n",
       "    <tr style=\"text-align: right;\">\n",
       "      <th></th>\n",
       "      <th>count</th>\n",
       "      <th>mean</th>\n",
       "      <th>std</th>\n",
       "      <th>min</th>\n",
       "      <th>25%</th>\n",
       "      <th>50%</th>\n",
       "      <th>75%</th>\n",
       "      <th>max</th>\n",
       "    </tr>\n",
       "    <tr>\n",
       "      <th>coint</th>\n",
       "      <th></th>\n",
       "      <th></th>\n",
       "      <th></th>\n",
       "      <th></th>\n",
       "      <th></th>\n",
       "      <th></th>\n",
       "      <th></th>\n",
       "      <th></th>\n",
       "    </tr>\n",
       "  </thead>\n",
       "  <tbody>\n",
       "    <tr>\n",
       "      <th>0</th>\n",
       "      <td>2253600.00%</td>\n",
       "      <td>50.00%</td>\n",
       "      <td>0.00%</td>\n",
       "      <td>50.00%</td>\n",
       "      <td>50.00%</td>\n",
       "      <td>50.00%</td>\n",
       "      <td>50.00%</td>\n",
       "      <td>50.00%</td>\n",
       "    </tr>\n",
       "    <tr>\n",
       "      <th>1</th>\n",
       "      <td>16800.00%</td>\n",
       "      <td>50.00%</td>\n",
       "      <td>0.00%</td>\n",
       "      <td>50.00%</td>\n",
       "      <td>50.00%</td>\n",
       "      <td>50.00%</td>\n",
       "      <td>50.00%</td>\n",
       "      <td>50.00%</td>\n",
       "    </tr>\n",
       "  </tbody>\n",
       "</table>\n",
       "</div>"
      ],
      "text/plain": [
       "            count   mean   std    min    25%    50%    75%    max\n",
       "coint                                                            \n",
       "0     2253600.00% 50.00% 0.00% 50.00% 50.00% 50.00% 50.00% 50.00%\n",
       "1       16800.00% 50.00% 0.00% 50.00% 50.00% 50.00% 50.00% 50.00%"
      ]
     },
     "execution_count": 65,
     "metadata": {},
     "output_type": "execute_result"
    }
   ],
   "source": [
    "spreads.assign(y_pred=log_reg.predict_proba(X)[:, 1]).groupby(spreads.coint).y_pred.describe()"
   ]
  },
  {
   "cell_type": "markdown",
   "metadata": {},
   "source": [
    "Not least due to the strong class imbalance, there are large numbers of false positives:\n",
    "correctly identifying 80 percent of the 366 cointegrated pairs implies over 16,500 false positives, but eliminates almost 30,000 of the candidates. See the notebook cointegration_\n",
    "tests for additional detail.\n",
    "\n",
    "The **key takeaway** is that distance heuristics can help screen a large universe more  efficiently, but this comes at a cost of missing some cointegrated pairs and still requires\n",
    "substantial testing."
   ]
  },
  {
   "cell_type": "markdown",
   "metadata": {},
   "source": [
    "#### Decision Tree Classifier"
   ]
  },
  {
   "cell_type": "code",
   "execution_count": 66,
   "metadata": {
    "ExecuteTime": {
     "end_time": "2021-02-23T15:13:20.597962Z",
     "start_time": "2021-02-23T15:01:38.813Z"
    }
   },
   "outputs": [],
   "source": [
    "model = DecisionTreeClassifier(class_weight='balanced')\n",
    "decision_tree = GridSearchCV(model,\n",
    "                             param_grid={'max_depth': list(range(1, 10))},\n",
    "                             cv=5,\n",
    "                             scoring='roc_auc')"
   ]
  },
  {
   "cell_type": "code",
   "execution_count": 67,
   "metadata": {
    "ExecuteTime": {
     "end_time": "2021-02-23T15:13:20.598628Z",
     "start_time": "2021-02-23T15:01:38.817Z"
    }
   },
   "outputs": [
    {
     "data": {
      "text/plain": [
       "GridSearchCV(cv=5, estimator=DecisionTreeClassifier(class_weight='balanced'),\n",
       "             param_grid={'max_depth': [1, 2, 3, 4, 5, 6, 7, 8, 9]},\n",
       "             scoring='roc_auc')"
      ]
     },
     "execution_count": 67,
     "metadata": {},
     "output_type": "execute_result"
    }
   ],
   "source": [
    "decision_tree.fit(X=X, y=y)"
   ]
  },
  {
   "cell_type": "code",
   "execution_count": 68,
   "metadata": {
    "ExecuteTime": {
     "end_time": "2021-02-23T15:13:20.599171Z",
     "start_time": "2021-02-23T15:01:38.822Z"
    }
   },
   "outputs": [
    {
     "data": {
      "text/plain": [
       "'70.83%, Depth: 4'"
      ]
     },
     "execution_count": 68,
     "metadata": {},
     "output_type": "execute_result"
    }
   ],
   "source": [
    "f'{decision_tree.best_score_:.2%}, Depth: {decision_tree.best_params_[\"max_depth\"]}'"
   ]
  },
  {
   "cell_type": "code",
   "execution_count": 69,
   "metadata": {
    "ExecuteTime": {
     "end_time": "2021-02-23T15:13:20.599733Z",
     "start_time": "2021-02-23T15:01:38.828Z"
    }
   },
   "outputs": [
    {
     "data": {
      "image/png": "[encoded data removed]",
      "text/plain": [
       "<Figure size 432x288 with 1 Axes>"
      ]
     },
     "metadata": {
      "needs_background": "light"
     },
     "output_type": "display_data"
    }
   ],
   "source": [
    "pd.Series(data=decision_tree.best_estimator_.feature_importances_, \n",
    "          index=X.columns).sort_values().plot.barh(title='Feature Importance')\n",
    "sns.despine();"
   ]
  },
  {
   "cell_type": "code",
   "execution_count": 70,
   "metadata": {
    "ExecuteTime": {
     "end_time": "2021-02-23T15:13:20.600289Z",
     "start_time": "2021-02-23T15:01:38.832Z"
    }
   },
   "outputs": [
    {
     "data": {
      "text/html": [
       "<div>\n",
       "<style scoped>\n",
       "    .dataframe tbody tr th:only-of-type {\n",
       "        vertical-align: middle;\n",
       "    }\n",
       "\n",
       "    .dataframe tbody tr th {\n",
       "        vertical-align: top;\n",
       "    }\n",
       "\n",
       "    .dataframe thead th {\n",
       "        text-align: right;\n",
       "    }\n",
       "</style>\n",
       "<table border=\"1\" class=\"dataframe\">\n",
       "  <thead>\n",
       "    <tr style=\"text-align: right;\">\n",
       "      <th></th>\n",
       "      <th>count</th>\n",
       "      <th>mean</th>\n",
       "      <th>std</th>\n",
       "      <th>min</th>\n",
       "      <th>25%</th>\n",
       "      <th>50%</th>\n",
       "      <th>75%</th>\n",
       "      <th>max</th>\n",
       "    </tr>\n",
       "    <tr>\n",
       "      <th>coint</th>\n",
       "      <th></th>\n",
       "      <th></th>\n",
       "      <th></th>\n",
       "      <th></th>\n",
       "      <th></th>\n",
       "      <th></th>\n",
       "      <th></th>\n",
       "      <th></th>\n",
       "    </tr>\n",
       "  </thead>\n",
       "  <tbody>\n",
       "    <tr>\n",
       "      <th>0</th>\n",
       "      <td>2253600.00%</td>\n",
       "      <td>30.94%</td>\n",
       "      <td>21.29%</td>\n",
       "      <td>0.00%</td>\n",
       "      <td>15.49%</td>\n",
       "      <td>32.38%</td>\n",
       "      <td>32.38%</td>\n",
       "      <td>96.68%</td>\n",
       "    </tr>\n",
       "    <tr>\n",
       "      <th>1</th>\n",
       "      <td>16800.00%</td>\n",
       "      <td>69.06%</td>\n",
       "      <td>27.03%</td>\n",
       "      <td>11.19%</td>\n",
       "      <td>57.95%</td>\n",
       "      <td>80.84%</td>\n",
       "      <td>93.75%</td>\n",
       "      <td>96.68%</td>\n",
       "    </tr>\n",
       "  </tbody>\n",
       "</table>\n",
       "</div>"
      ],
      "text/plain": [
       "            count   mean    std    min    25%    50%    75%    max\n",
       "coint                                                             \n",
       "0     2253600.00% 30.94% 21.29%  0.00% 15.49% 32.38% 32.38% 96.68%\n",
       "1       16800.00% 69.06% 27.03% 11.19% 57.95% 80.84% 93.75% 96.68%"
      ]
     },
     "execution_count": 70,
     "metadata": {},
     "output_type": "execute_result"
    }
   ],
   "source": [
    "spreads.assign(y_pred=decision_tree.predict_proba(X)[:, 1]).groupby(spreads.coint).y_pred.describe()"
   ]
  },
  {
   "cell_type": "code",
   "execution_count": 71,
   "metadata": {
    "ExecuteTime": {
     "end_time": "2021-02-23T15:13:20.600835Z",
     "start_time": "2021-02-23T15:01:38.838Z"
    }
   },
   "outputs": [
    {
     "data": {
      "image/png": "[encoded data removed]",
      "text/plain": [
       "<Figure size 360x360 with 1 Axes>"
      ]
     },
     "metadata": {
      "needs_background": "light"
     },
     "output_type": "display_data"
    }
   ],
   "source": [
    "sns.catplot(x='coint', \n",
    "            y='y_pred', \n",
    "            data=spreads.assign(y_pred=decision_tree.predict_proba(X)[:, 1]), \n",
    "            kind='box');"
   ]
  }
 ],
 "metadata": {
  "kernelspec": {
   "display_name": "Python 3",
   "language": "python",
   "name": "python3"
  },
  "language_info": {
   "codemirror_mode": {
    "name": "ipython",
    "version": 3
   },
   "file_extension": ".py",
   "mimetype": "text/x-python",
   "name": "python",
   "nbconvert_exporter": "python",
   "pygments_lexer": "ipython3",
   "version": "3.8.8"
  },
  "toc": {
   "base_numbering": 1,
   "nav_menu": {},
   "number_sections": true,
   "sideBar": true,
   "skip_h1_title": true,
   "title_cell": "Table of Contents",
   "title_sidebar": "Contents",
   "toc_cell": false,
   "toc_position": {
    "height": "calc(100% - 180px)",
    "left": "10px",
    "top": "150px",
    "width": "309px"
   },
   "toc_section_display": true,
   "toc_window_display": true
  }
 },
 "nbformat": 4,
 "nbformat_minor": 2
}
