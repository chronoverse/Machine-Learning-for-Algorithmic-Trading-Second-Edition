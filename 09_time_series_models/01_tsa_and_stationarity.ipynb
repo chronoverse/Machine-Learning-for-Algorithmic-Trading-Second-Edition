{
 "cells": [
  {
   "cell_type": "markdown",
   "metadata": {},
   "source": [
    "# Time Series Analysis and Stationarity"
   ]
  },
  {
   "cell_type": "code",
   "execution_count": null,
   "metadata": {
    "ExecuteTime": {
     "end_time": "2021-04-15T20:41:18.006775Z",
     "start_time": "2021-04-15T20:41:18.004906Z"
    }
   },
   "outputs": [],
   "source": [
    "import warnings\n",
    "warnings.filterwarnings('ignore')"
   ]
  },
  {
   "cell_type": "code",
   "execution_count": null,
   "metadata": {
    "ExecuteTime": {
     "end_time": "2021-04-15T20:41:18.609014Z",
     "start_time": "2021-04-15T20:41:18.010769Z"
    }
   },
   "outputs": [],
   "source": [
    "%matplotlib inline\n",
    "\n",
    "import pandas_datareader.data as web\n",
    "import numpy as np\n",
    "\n",
    "import statsmodels.tsa.api as tsa\n",
    "from statsmodels.graphics.tsaplots import plot_acf, plot_pacf\n",
    "from statsmodels.tsa.stattools import acf, q_stat, adfuller\n",
    "from scipy.stats import probplot, moment\n",
    "\n",
    "import matplotlib.pyplot as plt\n",
    "import seaborn as sns"
   ]
  },
  {
   "cell_type": "code",
   "execution_count": null,
   "metadata": {
    "ExecuteTime": {
     "end_time": "2021-04-15T20:41:18.612004Z",
     "start_time": "2021-04-15T20:41:18.609963Z"
    }
   },
   "outputs": [],
   "source": [
    "sns.set_style('whitegrid')"
   ]
  },
  {
   "cell_type": "code",
   "execution_count": null,
   "metadata": {
    "ExecuteTime": {
     "end_time": "2021-04-15T20:41:18.629760Z",
     "start_time": "2021-04-15T20:41:18.612995Z"
    }
   },
   "outputs": [],
   "source": [
    "def plot_correlogram(x, lags=None, title=None):\n",
    "    lags = min(10, int(len(x)/5)) if lags is None else lags\n",
    "    with sns.axes_style('whitegrid'):\n",
    "        fig, axes = plt.subplots(nrows=2, ncols=2, figsize=(14, 8))\n",
    "        x.plot(ax=axes[0][0], title='Residuals')\n",
    "        x.rolling(21).mean().plot(ax=axes[0][0], c='k', lw=1)\n",
    "        q_p = np.max(q_stat(acf(x, nlags=lags), len(x))[1])\n",
    "        stats = f'Q-Stat: {np.max(q_p):>8.2f}\\nADF: {adfuller(x)[1]:>11.2f}'\n",
    "        axes[0][0].text(x=.02, y=.85, s=stats, transform=axes[0][0].transAxes)\n",
    "        probplot(x, plot=axes[0][1])\n",
    "        mean, var, skew, kurtosis = moment(x, moment=[1, 2, 3, 4])\n",
    "        s = f'Mean: {mean:>12.2f}\\nSD: {np.sqrt(var):>16.2f}\\nSkew: {skew:12.2f}\\nKurtosis:{kurtosis:9.2f}'\n",
    "        axes[0][1].text(x=.02, y=.75, s=s, transform=axes[0][1].transAxes)\n",
    "        plot_acf(x=x, lags=lags, zero=False, ax=axes[1][0])\n",
    "        plot_pacf(x, lags=lags, zero=False, ax=axes[1][1])\n",
    "        axes[1][0].set_xlabel('Lag')\n",
    "        axes[1][1].set_xlabel('Lag')\n",
    "        fig.suptitle(title, fontsize=14)\n",
    "        sns.despine()\n",
    "        fig.tight_layout()\n",
    "        fig.subplots_adjust(top=.9)"
   ]
  },
  {
   "cell_type": "markdown",
   "metadata": {},
   "source": [
    "## Download Series"
   ]
  },
  {
   "cell_type": "markdown",
   "metadata": {},
   "source": [
    "Load monthly industrial production and daily NASDAQ stock market index:"
   ]
  },
  {
   "cell_type": "code",
   "execution_count": null,
   "metadata": {
    "ExecuteTime": {
     "end_time": "2021-04-15T20:41:21.194867Z",
     "start_time": "2021-04-15T20:41:18.630698Z"
    }
   },
   "outputs": [],
   "source": [
    "industrial_production = web.DataReader('IPGMFN', 'fred', '1988', '2017-12').squeeze().dropna()\n",
    "nasdaq = web.DataReader('NASDAQCOM', 'fred', '1990', '2017-12-31').squeeze().dropna()"
   ]
  },
  {
   "cell_type": "markdown",
   "metadata": {},
   "source": [
    "## Additive Decomposition"
   ]
  },
  {
   "cell_type": "markdown",
   "metadata": {},
   "source": [
    "Time series data typically contains a mix of various patterns that can be decomposed into several components, each representing an underlying pattern category. In particular, time series often consist of the systematic components trend, seasonality and cycles, and unsystematic noise. These components can be combined in an additive, linear model, in particular when fluctuations do not depend on the level of the series, or in a non-linear, multiplicative model. "
   ]
  },
  {
   "cell_type": "markdown",
   "metadata": {},
   "source": [
    "These components can be split up automatically. statsmodels includes a simple method to split the time series into a trend, seasonal, and residual component using moving averages. We can apply it to monthly data on industrial manufacturing production with both a strong trend and seasonality component, as follows:"
   ]
  },
  {
   "cell_type": "code",
   "execution_count": null,
   "metadata": {
    "ExecuteTime": {
     "end_time": "2021-04-15T20:41:21.199856Z",
     "start_time": "2021-04-15T20:41:21.195875Z"
    }
   },
   "outputs": [],
   "source": [
    "components = tsa.seasonal_decompose(industrial_production, model='additive')"
   ]
  },
  {
   "cell_type": "code",
   "execution_count": null,
   "metadata": {
    "ExecuteTime": {
     "end_time": "2021-04-15T20:41:21.759966Z",
     "start_time": "2021-04-15T20:41:21.201376Z"
    }
   },
   "outputs": [],
   "source": [
    "ts = (industrial_production.to_frame('Original')\n",
    "      .assign(Trend=components.trend)\n",
    "      .assign(Seasonality=components.seasonal)\n",
    "      .assign(Residual=components.resid))\n",
    "with sns.axes_style('white'):\n",
    "    ts.plot(subplots=True, figsize=(14, 8), title=['Original Series', 'Trend Component', 'Seasonal Component','Residuals'], legend=False)\n",
    "    plt.suptitle('Seasonal Decomposition', fontsize=14)\n",
    "    sns.despine()\n",
    "    plt.tight_layout()\n",
    "    plt.subplots_adjust(top=.91);"
   ]
  },
  {
   "cell_type": "markdown",
   "metadata": {},
   "source": [
    "## Time Series Stationarity"
   ]
  },
  {
   "cell_type": "markdown",
   "metadata": {},
   "source": [
    "The statistical properties, such as the mean, variance, or autocorrelation, of a stationary time series are independent of the period, that is, they don't change over time. Hence, stationarity implies that a time series does not have a trend or seasonal effects and that descriptive statistics, such as the mean or the standard deviation, when computed for different rolling windows, are constant or do not change much over time. It reverts to its mean, and the deviations have constant amplitude, while short-term movements always look the same in the statistical sense.\n",
    "\n",
    "More formally, strict stationarity requires the joint distribution of any subset of time series observations to be independent of time with respect to all moments. So, in addition to the mean and variance, higher moments such as skew and kurtosis, also need to be constant, irrespective of the lag between different observations. In most applications, we limit stationarity to first and second moments so that the time series is covariance stationary with constant mean, variance, and autocorrelation. "
   ]
  },
  {
   "cell_type": "markdown",
   "metadata": {},
   "source": [
    "Note that we specifically allow for dependence between observations at different lags, just like we want the input data for linear regression to be correlated with the outcome. Stationarity implies that these relationships are stable, which facilitates prediction as the model can focus on learning systematic patterns that take place within stable statistical properties. It is important because classical statistical models assume that the time series input data is stationary. "
   ]
  },
  {
   "cell_type": "markdown",
   "metadata": {},
   "source": [
    "To satisfy the stationarity assumption of linear time series models, we need to transform the original time series, often in several steps. Common transformations include the application of the (natural) logarithm to convert an exponential growth pattern into a linear trend and stabilize the variance. Deflation implies dividing a time series by another series that causes trending behavior, for example dividing a nominal series by a price index to convert it into a real measure."
   ]
  },
  {
   "cell_type": "markdown",
   "metadata": {},
   "source": [
    "### Log Transformation"
   ]
  },
  {
   "cell_type": "markdown",
   "metadata": {},
   "source": [
    "Double check fo zero values"
   ]
  },
  {
   "cell_type": "code",
   "execution_count": null,
   "metadata": {
    "ExecuteTime": {
     "end_time": "2021-04-15T20:41:21.766596Z",
     "start_time": "2021-04-15T20:41:21.760843Z"
    }
   },
   "outputs": [],
   "source": [
    "(nasdaq == 0).any(), (industrial_production==0).any()"
   ]
  },
  {
   "cell_type": "code",
   "execution_count": null,
   "metadata": {
    "ExecuteTime": {
     "end_time": "2021-04-15T20:41:21.776954Z",
     "start_time": "2021-04-15T20:41:21.767859Z"
    }
   },
   "outputs": [],
   "source": [
    "nasdaq_log = np.log(nasdaq)\n",
    "industrial_production_log = np.log(industrial_production)"
   ]
  },
  {
   "cell_type": "markdown",
   "metadata": {},
   "source": [
    "### Differencing"
   ]
  },
  {
   "cell_type": "markdown",
   "metadata": {},
   "source": [
    "In many cases, de-trending is not sufficient to make the series stationary. Instead, we need to transform the original data into a series of period-to-period and/or season-to-season differences. In other words, we use the result of subtracting neighboring data points or values at seasonal lags from each other. Note that when such differencing is applied to a log-transformed series, the results represent instantaneous growth rates or returns in a financial context. "
   ]
  },
  {
   "cell_type": "markdown",
   "metadata": {},
   "source": [
    "If a univariate series becomes stationary after differencing d times, it is said to be integrated of the order of d, or simply integrated if d=1. This behavior is due to so-called unit roots."
   ]
  },
  {
   "cell_type": "markdown",
   "metadata": {},
   "source": [
    "Differencing of log series produces instantaneous returns."
   ]
  },
  {
   "cell_type": "code",
   "execution_count": null,
   "metadata": {
    "ExecuteTime": {
     "end_time": "2021-04-15T20:41:21.793471Z",
     "start_time": "2021-04-15T20:41:21.778140Z"
    }
   },
   "outputs": [],
   "source": [
    "nasdaq_log_diff = nasdaq_log.diff().dropna()\n",
    "\n",
    "# seasonal differencing => yoy instantanteous returns\n",
    "industrial_production_log_diff = industrial_production_log.diff(12).dropna()"
   ]
  },
  {
   "cell_type": "markdown",
   "metadata": {},
   "source": [
    "### Plot Series"
   ]
  },
  {
   "cell_type": "markdown",
   "metadata": {},
   "source": [
    "The following chart shows time series for the NASDAQ stock index and industrial production for the 30 years through 2017 in original form, as well as the transformed versions after applying the logarithm and subsequently applying first and seasonal differences (at lag 12), respectively. The charts also display the ADF p-value, which allows us to reject the hypothesis of unit-root non-stationarity after all transformations in both cases:"
   ]
  },
  {
   "cell_type": "code",
   "execution_count": null,
   "metadata": {
    "ExecuteTime": {
     "end_time": "2021-04-15T20:41:23.058310Z",
     "start_time": "2021-04-15T20:41:21.794525Z"
    }
   },
   "outputs": [],
   "source": [
    "with sns.axes_style('dark'):\n",
    "    fig, axes = plt.subplots(nrows=3, ncols=2, figsize=(14, 8))\n",
    "\n",
    "    nasdaq.plot(ax=axes[0][0],\n",
    "                title='NASDAQ  Composite Index')\n",
    "    axes[0][0].text(x=.03,\n",
    "                    y=.85,\n",
    "                    s=f'ADF: {tsa.adfuller(nasdaq.dropna())[1]:.4f}',\n",
    "                    transform=axes[0][0].transAxes)\n",
    "    axes[0][0].set_ylabel('Index')\n",
    "\n",
    "    nasdaq_log.plot(ax=axes[1][0],\n",
    "                    sharex=axes[0][0])\n",
    "    axes[1][0].text(x=.03, y=.85,\n",
    "                    s=f'ADFl: {tsa.adfuller(nasdaq_log.dropna())[1]:.4f}',\n",
    "                    transform=axes[1][0].transAxes)\n",
    "    axes[1][0].set_ylabel('Log')\n",
    "\n",
    "    nasdaq_log_diff.plot(ax=axes[2][0],\n",
    "                         sharex=axes[0][0])\n",
    "    axes[2][0].text(x=.03, y=.85,\n",
    "                    s=f'ADF: {tsa.adfuller(nasdaq_log_diff.dropna())[1]:.4f}',\n",
    "                    transform=axes[2][0].transAxes)\n",
    "    axes[2][0].set_ylabel('Log, Diff')\n",
    "\n",
    "    industrial_production.plot(ax=axes[0][1],\n",
    "                               title='Industrial Production: Manufacturing')\n",
    "    axes[0][1].text(x=.03, y=.85,\n",
    "                    s=f'ADF: {tsa.adfuller(industrial_production)[1]:.4f}',\n",
    "                    transform=axes[0][1].transAxes)\n",
    "    axes[0][1].set_ylabel('Index')\n",
    "\n",
    "    industrial_production_log.plot(ax=axes[1][1],\n",
    "                                   sharex=axes[0][1])\n",
    "    axes[1][1].text(x=.03, y=.85,\n",
    "                    s=f'ADF: {tsa.adfuller(industrial_production_log.dropna())[1]:.4f}',\n",
    "                    transform=axes[1][1].transAxes)\n",
    "    axes[1][1].set_ylabel('Log')\n",
    "\n",
    "    industrial_production_log_diff.plot(ax=axes[2][1],\n",
    "                                        sharex=axes[0][1])\n",
    "    axes[2][1].text(x=.83, y=.85,\n",
    "                    s=f'ADF: {tsa.adfuller(industrial_production_log_diff.dropna())[1]:.4f}',\n",
    "                    transform=axes[2][1].transAxes)\n",
    "    axes[2][1].set_ylabel('Log, Seasonal Diff')\n",
    "    sns.despine()\n",
    "    fig.tight_layout()\n",
    "    fig.align_ylabels(axes)"
   ]
  },
  {
   "cell_type": "markdown",
   "metadata": {},
   "source": [
    "## Correlogram"
   ]
  },
  {
   "cell_type": "markdown",
   "metadata": {},
   "source": [
    "Autocorrelation (also called serial correlation) adapts the concept of correlation to the time series context: just as the correlation coefficient measures the strength of a linear relationship between two variables, the autocorrelation coefficient, $\\rho_k$, measures the extent of a linear relationship between time series values separated by a given lag, $k$."
   ]
  },
  {
   "cell_type": "markdown",
   "metadata": {},
   "source": [
    "Hence, we can calculate one autocorrelation coefficient for each of the T-1 lags in a time series; T is the length of the series. The autocorrelation function (ACF) computes the correlation coefficients as a function of the lag.\n",
    "The autocorrelation for a lag larger than 1 (that is, between observations more than one time step apart) reflects both the direct correlation between these observations and the indirect influence of the intervening data points. The partial autocorrelation removes this influence and only measures the linear dependence between data points at the given lag distance. The partial autocorrelation function (PACF) provides all the correlations that result once the effects of a correlation at shorter lags have been removed."
   ]
  },
  {
   "cell_type": "markdown",
   "metadata": {},
   "source": [
    "There are algorithms that estimate the partial autocorrelation from the sample autocorrelation based on the exact theoretical relationship between the PACF and the ACF."
   ]
  },
  {
   "cell_type": "markdown",
   "metadata": {},
   "source": [
    "A correlogram is simply a plot of the ACF or PACF for sequential lags, k=0,1,...,n. It allows us to inspect the correlation structure across lags at one glance. The main usage of correlograms is to detect any autocorrelation after the removal of the effects of deterministic trend or seasonality. Both the ACF and the PACF are key diagnostic tools for the design of linear time series models and we will review examples of ACF and PACF plots in the following section on time series transformations."
   ]
  },
  {
   "cell_type": "markdown",
   "metadata": {},
   "source": [
    "### NASDAQ (log, diff)"
   ]
  },
  {
   "cell_type": "markdown",
   "metadata": {},
   "source": [
    "We can further analyze the relevant time series characteristics for the transformed series using a Q-Q plot that compares the quantiles of the distribution of the time series observation to the quantiles of the normal distribution and the correlograms based on the ACF and PACF.\n",
    "\n",
    "For the NASDAQ plot, we notice that while there is no trend, the variance is not constant but rather shows clustered spikes around periods of market turmoil in the late 1980s, 2001, and 2008. The Q-Q plot highlights the fat tails of the distribution with extreme values more frequent than the normal distribution would suggest. The ACF and the PACF show similar patterns with autocorrelation at several lags appearing significant:"
   ]
  },
  {
   "cell_type": "code",
   "execution_count": null,
   "metadata": {
    "ExecuteTime": {
     "end_time": "2021-04-15T20:41:23.712615Z",
     "start_time": "2021-04-15T20:41:23.059168Z"
    }
   },
   "outputs": [],
   "source": [
    "plot_correlogram(nasdaq_log_diff, lags=100, title='NASDAQ Composite (Log, Diff)')"
   ]
  },
  {
   "cell_type": "markdown",
   "metadata": {},
   "source": [
    "### Industrial Production (log, seasonl diff)"
   ]
  },
  {
   "cell_type": "markdown",
   "metadata": {},
   "source": [
    "For the monthly time series on industrial manufacturing production, we notice a large negative outlier following the 2008 crisis as well as the corresponding skew in the Q-Q plot. The autocorrelation is much higher than for the NASDAQ returns and declines smoothly. The PACF shows distinct positive autocorrelation patterns at lag 1 and 13, and significant negative coefficients at lags 3 and 4:"
   ]
  },
  {
   "cell_type": "code",
   "execution_count": null,
   "metadata": {
    "ExecuteTime": {
     "end_time": "2021-04-15T20:41:24.241137Z",
     "start_time": "2021-04-15T20:41:23.713496Z"
    }
   },
   "outputs": [],
   "source": [
    "plot_correlogram(industrial_production_log_diff, title='Industrial Production (Seasonal Diff)')"
   ]
  }
 ],
 "metadata": {
  "kernelspec": {
   "display_name": "Python 3",
   "language": "python",
   "name": "python3"
  },
  "language_info": {
   "codemirror_mode": {
    "name": "ipython",
    "version": 3
   },
   "file_extension": ".py",
   "mimetype": "text/x-python",
   "name": "python",
   "nbconvert_exporter": "python",
   "pygments_lexer": "ipython3",
   "version": "3.8.8"
  },
  "toc": {
   "base_numbering": 1,
   "nav_menu": {},
   "number_sections": true,
   "sideBar": true,
   "skip_h1_title": true,
   "title_cell": "Table of Contents",
   "title_sidebar": "Contents",
   "toc_cell": false,
   "toc_position": {},
   "toc_section_display": true,
   "toc_window_display": true
  }
 },
 "nbformat": 4,
 "nbformat_minor": 2
}
